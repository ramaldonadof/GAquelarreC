{
 "cells": [
  {
   "cell_type": "code",
   "execution_count": 1,
   "metadata": {},
   "outputs": [],
   "source": [
    "import random\n",
    "import json"
   ]
  },
  {
   "cell_type": "code",
   "execution_count": 10,
   "metadata": {},
   "outputs": [
    {
     "name": "stdout",
     "output_type": "stream",
     "text": [
      "Nombre del Reino: Corona de Castilla\n",
      "Nombre del Reino: Corona de Aragón\n",
      "Nombre del Reino: Reino de Granada\n",
      "Nombre del Reino: Reino de Navarra\n",
      "Nombre del Reino: Reino de Portugal\n"
     ]
    }
   ],
   "source": [
    "# Load JSON data\n",
    "with open('Reinos.json', \"r\", encoding='utf-8') as f:\n",
    "    data = json.load(f)\n",
    "\n",
    "# Iterar sobre la lista de reinos\n",
    "for reinos in data:\n",
    "    print(\"Nombre del Reino:\", reinos[\"Nombre_Reino\"])\n",
    "\n",
    "with open('Clases.json', \"r\", encoding='utf-8') as f:\n",
    "    clases = json.load(f)\n"
   ]
  },
  {
   "cell_type": "markdown",
   "metadata": {},
   "source": [
    "<h3>1. ¿De dónde eres?</h3>"
   ]
  },
  {
   "cell_type": "code",
   "execution_count": 11,
   "metadata": {},
   "outputs": [],
   "source": [
    "def Reinos ():\n",
    "    pesos = [int(reinos[\"Peso\"]) for reinos in data]\n",
    "    reino = random.choices(data, weights=pesos, k=10)[0]\n",
    "    print(\"Nombre Reino:\", reino[\"Nombre_Reino\"], \"\\n\" , \"Info: \", reino[\"Información\"])\n",
    "    return reino"
   ]
  },
  {
   "cell_type": "markdown",
   "metadata": {},
   "source": [
    "<h3>2. ¿A qué pueblo perteneces?</h3>"
   ]
  },
  {
   "cell_type": "code",
   "execution_count": 20,
   "metadata": {},
   "outputs": [],
   "source": [
    "def Pueblos ():\n",
    "    reino = Reinos()\n",
    "    pueblos = reino[\"Pueblos\"]\n",
    "    pesos = [int(pueblo[\"Peso\"]) for pueblo in pueblos]\n",
    "    pueblo = random.choices(pueblos, weights=pesos, k=10)[0]\n",
    "    print(\"Nombre Pueblo: \", pueblo[\"Nombre_Pueblo\"], \"\\n\" , \"Info: \", pueblo[\"Información\"], \"\\n\" , \"Sociedad: \", pueblo[\"Sociedad\"])\n",
    "    return (reino ,pueblo)"
   ]
  },
  {
   "cell_type": "markdown",
   "metadata": {},
   "source": [
    "<h3>3. ¿Qué clase social tienes?</h3>\n",
    "\n",
    "<h4>Tomar en cuenta que aún no se implementó las Restricciones que tienen los pueblos respecto a la clase social.</h4>"
   ]
  },
  {
   "cell_type": "code",
   "execution_count": 30,
   "metadata": {},
   "outputs": [
    {
     "name": "stdout",
     "output_type": "stream",
     "text": [
      "Nombre Reino: Corona de Castilla \n",
      " Info:  Durante los siglos XIV y XV, Castilla es el reino de mayor extensión de la Península Ibérica y el que cuenta con una mayor influencia política y cultural. En su interior se engloban reinos antaño independientes, como el de León, el de Galicia o los viejos señoríos de taifas de Toledo y Murcia, entre otros, vinculados ahora todos ellos a la corona de Castilla, que durante el siglo XIII consigue expandir su territorio por todo el valle del Guadalquivir. Durante este periodo de tiempo, Castilla mantendrá la mayor parte del tiempo buenas relaciones con sus vecinos de Portugal y Navarra, pero no ocurrirá lo mismo con Aragón —con quien mantendrá frecuentes enfrentamientos hasta la firma del Compromiso de Caspe, en 1412, cuando se instaura una dinastía castellana en Aragón, la de los Trastámara—, o con Granada, que, a pesar de ser vasalla de Castilla, terminará finalmente siendo conquistada por ésta en 1492.\n",
      "Nombre Pueblo:  Gallegos \n",
      " Info:  Son los habitantes del antiguo reino de Galicia, comprendido actualmente dentro de la corona de Castilla, descendientes de las tribus celtas que habitaban los castros cuyas ruinas aún pueden visitarse en su territorio, y poseedores de una lengua propia procedente del latín. \n",
      " Sociedad:  Cristiana\n",
      "Tengo hijos\n",
      "{'Nombre': 'Vasallo', 'Peso': 6, 'Descripción': 'Se trata del campesino que trabaja la tierra del señor feudal, quien le ofrece a cambio protección y una parte del producto obtenido.'}\n"
     ]
    }
   ],
   "source": [
    "def Clase():\n",
    "    reino, pueblo = Pueblos()\n",
    "    sociedad = pueblo[\"Sociedad\"]\n",
    "    pesos = [int(clase[\"Peso\"]) for clase in clases[sociedad]]\n",
    "    clase = random.choices(clases[sociedad], weights=pesos, k=10)[0]\n",
    "    if len(clase[\"Clasificación\"]) == 0:\n",
    "        return reino, pueblo, clase, \"\"\n",
    "    else:\n",
    "        print(\"Tengo hijos\")\n",
    "        subclase = SubClase(clase[\"Clasificación\"])\n",
    "        return reino, pueblo, clase, subclase\n",
    "\n",
    "def SubClase(subClases):\n",
    "    pesos = [int(subClase[\"Peso\"]) for subClase in subClases]\n",
    "    subClase = random.choices(subClases, weights=pesos, k=10)[0]\n",
    "    return subClase\n",
    "\n",
    "reino, pueblo, clase, subclase = Clase()\n",
    "print(subclase)"
   ]
  },
  {
   "cell_type": "markdown",
   "metadata": {},
   "source": [
    "<h3>4. ¿Qué profesión ejerces?</h3>\n",
    "<h3>5. ¿Qué profesión tenía tu padre?</h3>\n",
    "<h3>6. ¿Cómo es tu familia?</h3>\n",
    "<h3>7. ¿Cómo eres tú?</h3>\n",
    "<h3>8. ¿Cómo te comportas y piensas?</h3>\n",
    "<h3>9. ¿Qué has aprendido en tu vida?</h3>\n",
    "<h3>10. ¿Cuanto ganas y cuanto gastas?</h3>\n",
    "<h3>11. ¿Conoces hechizos o rituales de fe?</h3>\n",
    "<h3>12. ¿Qué particularidades posees?</h3>\n",
    "<h3>13. ¿Falta algo más que decidir de ti?</h3>"
   ]
  }
 ],
 "metadata": {
  "kernelspec": {
   "display_name": "Python 3",
   "language": "python",
   "name": "python3"
  },
  "language_info": {
   "codemirror_mode": {
    "name": "ipython",
    "version": 3
   },
   "file_extension": ".py",
   "mimetype": "text/x-python",
   "name": "python",
   "nbconvert_exporter": "python",
   "pygments_lexer": "ipython3",
   "version": "3.11.4"
  }
 },
 "nbformat": 4,
 "nbformat_minor": 2
}
