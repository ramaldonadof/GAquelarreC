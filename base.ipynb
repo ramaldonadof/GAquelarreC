{
 "cells": [
  {
   "cell_type": "code",
   "execution_count": 2,
   "metadata": {},
   "outputs": [],
   "source": [
    "import random\n",
    "import json"
   ]
  },
  {
   "cell_type": "code",
   "execution_count": 3,
   "metadata": {},
   "outputs": [
    {
     "name": "stdout",
     "output_type": "stream",
     "text": [
      "Nombre del Reino: Corona de Castilla\n",
      "Nombre del Reino: Corona de Aragón\n",
      "Nombre del Reino: Reino de Granada\n",
      "Nombre del Reino: Reino de Navarra\n",
      "Nombre del Reino: Reino de Portugal\n"
     ]
    }
   ],
   "source": [
    "# Load JSON data\n",
    "with open('Reinos.json', \"r\", encoding='utf-8') as f:\n",
    "    data = json.load(f)\n",
    "\n",
    "# Iterar sobre la lista de reinos\n",
    "for reinos in data:\n",
    "    print(\"Nombre del Reino:\", reinos[\"Nombre_Reino\"])\n",
    "\n",
    "with open('Clases.json', \"r\", encoding='utf-8') as f:\n",
    "    clases = json.load(f)\n"
   ]
  },
  {
   "cell_type": "markdown",
   "metadata": {},
   "source": [
    "<h3>1. ¿De dónde eres?</h3>"
   ]
  },
  {
   "cell_type": "code",
   "execution_count": null,
   "metadata": {},
   "outputs": [],
   "source": [
    "def Reinos ():\n",
    "    pesos = [int(reinos[\"Peso\"]) for reinos in data]\n",
    "    reino = random.choices(data, weights=pesos, k=10)[0]\n",
    "    print(\"Nombre Reino:\", reino[\"Nombre_Reino\"], \"\\n\" , \"Info: \", reino[\"Información\"])\n",
    "    return reino"
   ]
  },
  {
   "cell_type": "code",
   "execution_count": null,
   "metadata": {},
   "outputs": [],
   "source": [
    "Reinos()"
   ]
  },
  {
   "cell_type": "code",
   "execution_count": 16,
   "metadata": {},
   "outputs": [
    {
     "name": "stdout",
     "output_type": "stream",
     "text": [
      "{'Nombre_Reino': 'Corona de Castilla', 'Peso': 4, 'Información': 'Durante los siglos XIV y XV, Castilla es el reino de mayor extensión de la Península Ibérica y el que cuenta con una mayor influencia política y cultural. En su interior se engloban reinos antaño independientes, como el de León, el de Galicia o los viejos señoríos de taifas de Toledo y Murcia, entre otros, vinculados ahora todos ellos a la corona de Castilla, que durante el siglo XIII consigue expandir su territorio por todo el valle del Guadalquivir. Durante este periodo de tiempo, Castilla mantendrá la mayor parte del tiempo buenas relaciones con sus vecinos de Portugal y Navarra, pero no ocurrirá lo mismo con Aragón —con quien mantendrá frecuentes enfrentamientos hasta la firma del Compromiso de Caspe, en 1412, cuando se instaura una dinastía castellana en Aragón, la de los Trastámara—, o con Granada, que, a pesar de ser vasalla de Castilla, terminará finalmente siendo conquistada por ésta en 1492.', 'Pueblos': [{'Nombre_Pueblo': 'Castellanos', 'Peso': 3, 'Información': 'Se trata de los habitantes cristianos del reino de Castilla, que pueblan todo el territorio de la Meseta, el valle del Guadalquivir y el antiguo reino de Murcia. Gracias a las continuas políticas repobladoras de los reyes castellanos, son el pueblo más numeroso de la Península Ibérica, lo que ha llevado a imponer el castellano como lengua común en todos los reinos peninsulares de la Baja Edad Media.', 'Sociedad': 'Cristiana', 'Restricciones': {'Clases_Negada': ['Esclavos'], 'Clases_Unica': [], 'Profesion_Negada': []}, 'Idiomas': [{'Idioma': 'Castellano', 'Porcentaje': '100'}]}, {'Nombre_Pueblo': 'Gallegos', 'Peso': 2, 'Información': 'Son los habitantes del antiguo reino de Galicia, comprendido actualmente dentro de la corona de Castilla, descendientes de las tribus celtas que habitaban los castros cuyas ruinas aún pueden visitarse en su territorio, y poseedores de una lengua propia procedente del latín.', 'Sociedad': 'Cristiana', 'Restricciones': {'Clases_Negada': ['Esclavos'], 'Clases_Unica': [], 'Profesion_Negada': []}, 'Idiomas': [{'Idioma': 'Gallego', 'Porcentaje': '100'}, {'Idioma': 'Castellano', 'Porcentaje': 'CULx4'}]}, {'Nombre_Pueblo': 'Vascos', 'Peso': 1, 'Información': 'Habitantes de las zonas rurales al norte de la corona de Castilla —el señorío de Guipúzcoa— y del reino de Navarra, famosos por su ferocidad y su valor en el combate. Además de una lengua exclusiva, el euskera, los vascos poseen una cultura propia basada en viejos mitos prerromanos y ritos paganos casi olvidados, una cultura que la Iglesia intenta maquillar con símbolos y ceremoniales cristianos.', 'Sociedad': 'Cristiana', 'Restricciones': {'Clases_Negada': [], 'Clases_Unica': ['Villanos', 'Campesinos'], 'Profesion_Negada': []}, 'Idiomas': [{'Idioma': 'Euskera', 'Porcentaje': '100'}, {'Idioma': 'Castellano', 'Porcentaje': 'CULx4'}]}, {'Nombre_Pueblo': 'Asturleoneses', 'Peso': 1, 'Información': 'Son los habitantes de los territorios pertenecientes al antiguo reino de León, incluyendo Asturias y parte de la zona cántabra. Los asturleoneses descienden en su mayor parte de antiguas familias visigodas y no se diferencian demasiado del pueblo castellano, excepto en el uso de un idioma romance propio, el bable.', 'Sociedad': 'Cristiana', 'Restricciones': {'Clases_Negada': ['Esclavos'], 'Clases_Unica': [], 'Profesion_Negada': []}, 'Idiomas': [{'Idioma': 'Bable', 'Porcentaje': '100'}, {'Idioma': 'Castellano', 'Porcentaje': 'CULx4'}]}, {'Nombre_Pueblo': 'Mudéjares', 'Peso': 2, 'Información': 'Los musulmanes que viven en los reinos cristianos durante la Edad Media reciben el nombre de mudéjares —del árabe mudaggan, que quiere decir “domesticado”, lo que demuestra la estima en que los tienen los habitantes del reino nazarí—. Existen comunidades mudéjares en la corona de Castilla —asentadas en los valles del Guadiana y del Guadalquivir—, en Aragón —especialmente en la zona del reino de Valencia— y en el reino de Portugal —numerosas en la zona meridional del reino y el Algarve—, y viven en barrios concretos de las ciudades denominados aljamas o morerías, donde tienen libertad para continuar practicando su religión, su lengua y sus costumbres, al menos hasta que la intransigencia y el fanatismo de los siglos XIV y XV termina obligándoles a bautizarse a finales del siglo XV, cuando pasan a ser llamados “moriscos”.', 'Sociedad': 'Cristiana', 'Restricciones': {'Clases_Negada': ['Alta Nobleza', 'Baja Nobleza'], 'Clases_Unica': [], 'Profesion_Negada': ['Soldado', 'Alguacil', 'Monje', 'Sacerdote', 'Goliardo']}, 'Idiomas': [{'Idioma': 'Andalusí', 'Porcentaje': '100'}, {'Idioma': 'Castellano', 'Porcentaje': 'CULx4'}]}, {'Nombre_Pueblo': 'Judíos', 'Peso': 1, 'Información': 'El pueblo judío —o sefardita, si queremos ser más precisos— se encuentra extendido por toda la Península Ibérica y podemos encontrar juderías —o calls, como se las denomina en la corona de Aragón— en la mayor parte de las ciudades de los cinco reinos. En su interior los judíos asisten a las sinagogas y continúan practicando sus ritos y costumbres, pero la protección que se les otorgó durante los siglos anteriores va desapareciendo progresivamente a lo largo de los siglos XIV y XV, sucediéndose cada vez con mayor frecuencia las matanzas en las juderías, las conversiones forzosas y, finalmente, la orden de expulsión de los reinos de Castilla y Aragón en 1492.', 'Sociedad': 'Judía', 'Restricciones': 'Ninguna', 'Idiomas': [{'Idioma': 'Ladino', 'Porcentaje': '100'}, {'Idioma': 'Hebreo', 'Porcentaje': 'CULx2'}, {'Idioma': 'Castellano', 'Porcentaje': 'CULx4'}]}]}\n"
     ]
    }
   ],
   "source": [
    "def BuscarReinoPorDado(dado: int):\n",
    "    assert 1 <= dado <= 10, \"El valor debe estar entre 1 a 10\"\n",
    "    pesos = [int(reinos[\"Peso\"]) for reinos in data]\n",
    "    condicion = pesos[0]\n",
    "    vueltas = 0\n",
    "    while (condicion < dado):\n",
    "        vueltas += 1\n",
    "        condicion += pesos[vueltas]\n",
    "        print(\"Peso: \", condicion, \"Vueltas: \", vueltas)\n",
    "    \n",
    "    return data[vueltas]\n",
    "\n",
    "def BuscarReinoPorNombre():\n",
    "    return \"reino\"\n",
    "\n",
    "BuscarReinoPorDado(2)"
   ]
  },
  {
   "cell_type": "markdown",
   "metadata": {},
   "source": [
    "<h3>2. ¿A qué pueblo perteneces?</h3>"
   ]
  },
  {
   "cell_type": "code",
   "execution_count": null,
   "metadata": {},
   "outputs": [],
   "source": [
    "def Pueblos ():\n",
    "    reino = Reinos()\n",
    "    pueblos = reino[\"Pueblos\"]\n",
    "    pesos = [int(pueblo[\"Peso\"]) for pueblo in pueblos]\n",
    "    pueblo = random.choices(pueblos, weights=pesos, k=10)[0]\n",
    "    print(\"Nombre Pueblo: \", pueblo[\"Nombre_Pueblo\"], \"\\n\" , \"Info: \", pueblo[\"Información\"], \"\\n\" , \"Sociedad: \", pueblo[\"Sociedad\"])\n",
    "    return (reino ,pueblo)"
   ]
  },
  {
   "cell_type": "markdown",
   "metadata": {},
   "source": [
    "<h3>3. ¿Qué clase social tienes?</h3>\n",
    "\n",
    "<h4>Tomar en cuenta que aún no se implementó las Restricciones que tienen los pueblos respecto a la clase social.</h4>"
   ]
  },
  {
   "cell_type": "code",
   "execution_count": null,
   "metadata": {},
   "outputs": [],
   "source": [
    "def Clase():\n",
    "    reino, pueblo = Pueblos()\n",
    "    sociedad = pueblo[\"Sociedad\"]\n",
    "    pesos = [int(clase[\"Peso\"]) for clase in clases[sociedad]]\n",
    "    clase = random.choices(clases[sociedad], weights=pesos, k=10)[0]\n",
    "    if len(clase[\"Clasificación\"]) == 0:\n",
    "        return reino, pueblo, clase, \"\"\n",
    "    else:\n",
    "        print(\"Tengo hijos\")\n",
    "        subclase = SubClase(clase[\"Clasificación\"])\n",
    "        return reino, pueblo, clase, subclase\n",
    "\n",
    "def SubClase(subClases):\n",
    "    pesos = [int(subClase[\"Peso\"]) for subClase in subClases]\n",
    "    subClase = random.choices(subClases, weights=pesos, k=10)[0]\n",
    "    return subClase\n",
    "\n",
    "reino, pueblo, clase, subclase = Clase()\n",
    "print(subclase)"
   ]
  },
  {
   "cell_type": "markdown",
   "metadata": {},
   "source": [
    "<h3>4. ¿Qué profesión ejerces?</h3>\n",
    "<h3>5. ¿Qué profesión tenía tu padre?</h3>\n",
    "<h3>6. ¿Cómo es tu familia?</h3>\n",
    "<h3>7. ¿Cómo eres tú?</h3>\n",
    "<h3>8. ¿Cómo te comportas y piensas?</h3>\n",
    "<h3>9. ¿Qué has aprendido en tu vida?</h3>\n",
    "<h3>10. ¿Cuanto ganas y cuanto gastas?</h3>\n",
    "<h3>11. ¿Conoces hechizos o rituales de fe?</h3>\n",
    "<h3>12. ¿Qué particularidades posees?</h3>\n",
    "<h3>13. ¿Falta algo más que decidir de ti?</h3>"
   ]
  }
 ],
 "metadata": {
  "kernelspec": {
   "display_name": "Python 3",
   "language": "python",
   "name": "python3"
  },
  "language_info": {
   "codemirror_mode": {
    "name": "ipython",
    "version": 3
   },
   "file_extension": ".py",
   "mimetype": "text/x-python",
   "name": "python",
   "nbconvert_exporter": "python",
   "pygments_lexer": "ipython3",
   "version": "3.11.4"
  }
 },
 "nbformat": 4,
 "nbformat_minor": 2
}
