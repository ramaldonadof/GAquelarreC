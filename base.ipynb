{
 "cells": [
  {
   "cell_type": "code",
   "execution_count": 1,
   "metadata": {},
   "outputs": [],
   "source": [
    "import random\n",
    "import json"
   ]
  },
  {
   "cell_type": "code",
   "execution_count": 2,
   "metadata": {},
   "outputs": [
    {
     "name": "stdout",
     "output_type": "stream",
     "text": [
      "Nombre del Reino: Corona de Castilla\n",
      "Nombre del Reino: Corona de Aragón\n",
      "Nombre del Reino: Reino de Granada\n",
      "Nombre del Reino: Reino de Navarra\n",
      "Nombre del Reino: Reino de Portugal\n"
     ]
    }
   ],
   "source": [
    "# Load JSON data\n",
    "with open('Reinos.json', \"r\", encoding='utf-8') as f:\n",
    "    data = json.load(f)\n",
    "\n",
    "# Iterar sobre la lista de reinos\n",
    "for reinos in data:\n",
    "    print(\"Nombre del Reino:\", reinos[\"Nombre_Reino\"])\n",
    "\n",
    "with open('Clases.json', \"r\", encoding='utf-8') as f:\n",
    "    clases = json.load(f)\n"
   ]
  },
  {
   "cell_type": "markdown",
   "metadata": {},
   "source": [
    "<h3>1. ¿De dónde eres?</h3>"
   ]
  },
  {
   "cell_type": "code",
   "execution_count": 3,
   "metadata": {},
   "outputs": [],
   "source": [
    "def Reinos ():\n",
    "    pesos = [int(reinos[\"Peso\"]) for reinos in data]\n",
    "    reino = random.choices(data, weights=pesos, k=10)[0]\n",
    "    print(\"Nombre Reino:\", reino[\"Nombre_Reino\"], \"\\n\" , \"Info: \", reino[\"Información\"])\n",
    "    return reino"
   ]
  },
  {
   "cell_type": "code",
   "execution_count": 4,
   "metadata": {},
   "outputs": [],
   "source": [
    "def BuscarReinoPorDado(dado: int):\n",
    "    assert 1 <= dado <= 10, \"El valor debe estar entre 1 a 10\"\n",
    "    pesos = [int(reinos[\"Peso\"]) for reinos in data]\n",
    "    condicion = pesos[0]\n",
    "    vueltas = 0\n",
    "    while (condicion < dado):\n",
    "        vueltas += 1\n",
    "        condicion += pesos[vueltas]\n",
    "    \n",
    "    return data[vueltas]\n",
    "\n",
    "def BuscarReinoPorNombre(nombreReino: str):\n",
    "    for reino in data:\n",
    "        if reino[\"Nombre_Reino\"] == nombreReino:\n",
    "            return reino\n",
    "\n",
    "def ListarNombreDeReinos():\n",
    "    nombresReinos = [str(reinos[\"Nombre_Reino\"]) for reinos in data]\n",
    "    return nombresReinos"
   ]
  },
  {
   "cell_type": "markdown",
   "metadata": {},
   "source": [
    "<h3>2. ¿A qué pueblo perteneces?</h3>"
   ]
  },
  {
   "cell_type": "code",
   "execution_count": null,
   "metadata": {},
   "outputs": [],
   "source": [
    "def Pueblos ():\n",
    "    reino = Reinos()\n",
    "    pueblos = reino[\"Pueblos\"]\n",
    "    pesos = [int(pueblo[\"Peso\"]) for pueblo in pueblos]\n",
    "    pueblo = random.choices(pueblos, weights=pesos, k=10)[0]\n",
    "    print(\"Nombre Pueblo: \", pueblo[\"Nombre_Pueblo\"], \"\\n\" , \"Info: \", pueblo[\"Información\"], \"\\n\" , \"Sociedad: \", pueblo[\"Sociedad\"])\n",
    "    return (reino ,pueblo)"
   ]
  },
  {
   "cell_type": "code",
   "execution_count": 5,
   "metadata": {},
   "outputs": [
    {
     "name": "stdout",
     "output_type": "stream",
     "text": [
      "Nombre Reino: Corona de Aragón \n",
      " Info:  Creada tras la unión en 1150 del reino de Aragón y el condado de Barcelona, la corona de Aragón de los siglos XIV y XV se había expandido ya por Valencia, Mallorca, Sicilia, Córcega, Cerdeña, Nápoles y, durante un breve periodo de tiempo, Atenas y Neopatria. Mucho más volcada al mar que su gran antagonista, Castilla —con quien mantendrá frecuentes disputas hasta la llegada al trono aragonés del rey castellano Fernando de Antequera en 1412—, la política de la corona de Aragón se centrará en el comercio marítimo y en la expansión del reino por el Mediterráneo. Con el matrimonio de los Reyes Católicos en 1469, Castilla y Aragón quedarán unidas, aunque hasta el reinado de Carlos I la unión no será completa y efectiva.\n"
     ]
    }
   ],
   "source": [
    "reino = Reinos()"
   ]
  },
  {
   "cell_type": "code",
   "execution_count": 29,
   "metadata": {},
   "outputs": [
    {
     "data": {
      "text/plain": [
       "['Aragoneses', 'Catalanes', 'Mudéjares', 'Judíos']"
      ]
     },
     "execution_count": 29,
     "metadata": {},
     "output_type": "execute_result"
    }
   ],
   "source": [
    "def BuscarPuebloPorDado(reino, dado: int):\n",
    "    assert 1 <= dado <= 10, \"El valor debe estar entre 1 a 10\"\n",
    "    pueblos = reino[\"Pueblos\"]\n",
    "    pesos = [int(pueblo[\"Peso\"]) for pueblo in pueblos]\n",
    "    condicion = pesos[0]\n",
    "    vueltas = 0\n",
    "    while (condicion < dado):\n",
    "        vueltas += 1\n",
    "        condicion += pesos[vueltas] \n",
    "    \n",
    "    return pueblos[vueltas]\n",
    "\n",
    "def BuscarPuebloPorNombre(reino ,nombrePueblo: str):\n",
    "    pueblos = reino[\"Pueblos\"]\n",
    "    for pueblo in pueblos:\n",
    "        if pueblo[\"Nombre_Pueblo\"] == nombrePueblo:\n",
    "            return pueblo\n",
    "\n",
    "def ListarNombreDePueblos(reino):\n",
    "    pueblos = reino[\"Pueblos\"]\n",
    "    nombresPueblos = [str(pueblo[\"Nombre_Pueblo\"]) for pueblo in pueblos]\n",
    "    return nombresPueblos\n",
    "\n",
    "ListarNombreDePueblos(reino)"
   ]
  },
  {
   "cell_type": "markdown",
   "metadata": {},
   "source": [
    "<h3>3. ¿Qué clase social tienes?</h3>\n",
    "\n",
    "<h4>Tomar en cuenta que aún no se implementó las Restricciones que tienen los pueblos respecto a la clase social.</h4>"
   ]
  },
  {
   "cell_type": "code",
   "execution_count": null,
   "metadata": {},
   "outputs": [],
   "source": [
    "def Clase():\n",
    "    reino, pueblo = Pueblos()\n",
    "    sociedad = pueblo[\"Sociedad\"]\n",
    "    pesos = [int(clase[\"Peso\"]) for clase in clases[sociedad]]\n",
    "    clase = random.choices(clases[sociedad], weights=pesos, k=10)[0]\n",
    "    if len(clase[\"Clasificación\"]) == 0:\n",
    "        return reino, pueblo, clase, \"\"\n",
    "    else:\n",
    "        print(\"Tengo hijos\")\n",
    "        subclase = SubClase(clase[\"Clasificación\"])\n",
    "        return reino, pueblo, clase, subclase\n",
    "\n",
    "def SubClase(subClases):\n",
    "    pesos = [int(subClase[\"Peso\"]) for subClase in subClases]\n",
    "    subClase = random.choices(subClases, weights=pesos, k=10)[0]\n",
    "    return subClase\n",
    "\n",
    "reino, pueblo, clase, subclase = Clase()\n",
    "print(subclase)"
   ]
  },
  {
   "cell_type": "markdown",
   "metadata": {},
   "source": [
    "<h3>4. ¿Qué profesión ejerces?</h3>\n",
    "<h3>5. ¿Qué profesión tenía tu padre?</h3>\n",
    "<h3>6. ¿Cómo es tu familia?</h3>\n",
    "<h3>7. ¿Cómo eres tú?</h3>\n",
    "<h3>8. ¿Cómo te comportas y piensas?</h3>\n",
    "<h3>9. ¿Qué has aprendido en tu vida?</h3>\n",
    "<h3>10. ¿Cuanto ganas y cuanto gastas?</h3>\n",
    "<h3>11. ¿Conoces hechizos o rituales de fe?</h3>\n",
    "<h3>12. ¿Qué particularidades posees?</h3>\n",
    "<h3>13. ¿Falta algo más que decidir de ti?</h3>"
   ]
  }
 ],
 "metadata": {
  "kernelspec": {
   "display_name": "Python 3",
   "language": "python",
   "name": "python3"
  },
  "language_info": {
   "codemirror_mode": {
    "name": "ipython",
    "version": 3
   },
   "file_extension": ".py",
   "mimetype": "text/x-python",
   "name": "python",
   "nbconvert_exporter": "python",
   "pygments_lexer": "ipython3",
   "version": "3.11.4"
  }
 },
 "nbformat": 4,
 "nbformat_minor": 2
}
