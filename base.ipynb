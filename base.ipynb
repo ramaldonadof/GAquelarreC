{
 "cells": [
  {
   "cell_type": "code",
   "execution_count": 76,
   "metadata": {},
   "outputs": [],
   "source": [
    "import random\n",
    "import json"
   ]
  },
  {
   "cell_type": "code",
   "execution_count": 77,
   "metadata": {},
   "outputs": [
    {
     "name": "stdout",
     "output_type": "stream",
     "text": [
      "Nombre del Reino: Corona de Castilla\n",
      "Nombre del Reino: Corona de Aragón\n",
      "Nombre del Reino: Reino de Granada\n",
      "Nombre del Reino: Reino de Navarra\n",
      "Nombre del Reino: Reino de Portugal\n"
     ]
    }
   ],
   "source": [
    "# Load JSON data\n",
    "with open('Reinos.json', \"r\", encoding='utf-8') as f:\n",
    "    data = json.load(f)\n",
    "\n",
    "# Iterar sobre la lista de reinos\n",
    "for reinos in data:\n",
    "    print(\"Nombre del Reino:\", reinos[\"Nombre_Reino\"])\n"
   ]
  },
  {
   "cell_type": "markdown",
   "metadata": {},
   "source": [
    "<h3>1. ¿De dónde eres?</h3>"
   ]
  },
  {
   "cell_type": "code",
   "execution_count": null,
   "metadata": {},
   "outputs": [],
   "source": [
    "def Reinos ():\n",
    "    pesos = [int(reinos[\"Peso\"]) for reinos in data]\n",
    "    reino = random.choices(data, weights=pesos, k=10)[0]\n",
    "    print(\"Nombre Reino:\", reino[\"Nombre_Reino\"], \"\\n\" , \"Info: \", reino[\"Información\"])\n",
    "    return reino"
   ]
  },
  {
   "cell_type": "markdown",
   "metadata": {},
   "source": [
    "<h3>2. ¿A qué pueblo perteneces?</h3>\n",
    "<h3>3. ¿Qué clase social tienes?</h3>\n",
    "<h3>4. ¿Qué profesión ejerces?</h3>\n",
    "<h3>5. ¿Qué profesión tenía tu padre?</h3>\n",
    "<h3>6. ¿Cómo es tu familia?</h3>\n",
    "<h3>7. ¿Cómo eres tú?</h3>\n",
    "<h3>8. ¿Cómo te comportas y piensas?</h3>\n",
    "<h3>9. ¿Qué has aprendido en tu vida?</h3>\n",
    "<h3>10. ¿Cuanto ganas y cuanto gastas?</h3>\n",
    "<h3>11. ¿Conoces hechizos o rituales de fe?</h3>\n",
    "<h3>12. ¿Qué particularidades posees?</h3>\n",
    "<h3>13. ¿Falta algo más que decidir de ti?</h3>"
   ]
  }
 ],
 "metadata": {
  "kernelspec": {
   "display_name": "Python 3",
   "language": "python",
   "name": "python3"
  },
  "language_info": {
   "codemirror_mode": {
    "name": "ipython",
    "version": 3
   },
   "file_extension": ".py",
   "mimetype": "text/x-python",
   "name": "python",
   "nbconvert_exporter": "python",
   "pygments_lexer": "ipython3",
   "version": "3.11.4"
  }
 },
 "nbformat": 4,
 "nbformat_minor": 2
}
